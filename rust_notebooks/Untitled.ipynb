{
 "cells": [
  {
   "cell_type": "code",
   "execution_count": 7,
   "id": "061667ad",
   "metadata": {
    "vscode": {
     "languageId": "rust"
    }
   },
   "outputs": [],
   "source": [
    ":dep polars = { version = \"0.35.4\", features = [\"lazy\", \"describe\"] }\n",
    ":dep polars = { version = \"0.35.4\", features = [\"lazy\", \"describe\"] }\n",
    ":dep ndarray = \"0.15\"\n",
    ":dep ndarray-linalg = { version = \"0.16\", features = [\"openblas-system\"] }\n",
    "\n",
    "// Now we can use these crates\n",
    "use polars::prelude::*;\n",
    "use ndarray::prelude::*;\n",
    "// ... rest of the code"
   ]
  },
  {
   "cell_type": "code",
   "execution_count": 14,
   "id": "fc71839e",
   "metadata": {
    "vscode": {
     "languageId": "rust"
    }
   },
   "outputs": [
    {
     "ename": "Error",
     "evalue": "failed to resolve: use of undeclared type `CsvReadOptions`",
     "output_type": "error",
     "traceback": [
      "\u001b[31m[E0433] Error:\u001b[0m failed to resolve: use of undeclared type `CsvReadOptions`",
      "   \u001b[38;5;246m╭\u001b[0m\u001b[38;5;246m─\u001b[0m\u001b[38;5;246m[\u001b[0mcommand_14:1:1\u001b[38;5;246m]\u001b[0m",
      "   \u001b[38;5;246m│\u001b[0m",
      " \u001b[38;5;246m1 │\u001b[0m \u001b[38;5;249ml\u001b[0m\u001b[38;5;249me\u001b[0m\u001b[38;5;249mt\u001b[0m\u001b[38;5;249m \u001b[0m\u001b[38;5;249md\u001b[0m\u001b[38;5;249mf\u001b[0m\u001b[38;5;249m \u001b[0m\u001b[38;5;249m=\u001b[0m\u001b[38;5;249m \u001b[0m\u001b[38;5;54mC\u001b[0m\u001b[38;5;54ms\u001b[0m\u001b[38;5;54mv\u001b[0m\u001b[38;5;54mR\u001b[0m\u001b[38;5;54me\u001b[0m\u001b[38;5;54ma\u001b[0m\u001b[38;5;54md\u001b[0m\u001b[38;5;54mO\u001b[0m\u001b[38;5;54mp\u001b[0m\u001b[38;5;54mt\u001b[0m\u001b[38;5;54mi\u001b[0m\u001b[38;5;54mo\u001b[0m\u001b[38;5;54mn\u001b[0m\u001b[38;5;54ms\u001b[0m\u001b[38;5;249m:\u001b[0m\u001b[38;5;249m:\u001b[0m\u001b[38;5;249md\u001b[0m\u001b[38;5;249me\u001b[0m\u001b[38;5;249mf\u001b[0m\u001b[38;5;249ma\u001b[0m\u001b[38;5;249mu\u001b[0m\u001b[38;5;249ml\u001b[0m\u001b[38;5;249mt\u001b[0m\u001b[38;5;249m(\u001b[0m\u001b[38;5;249m)\u001b[0m",
      " \u001b[38;5;240m  │\u001b[0m          \u001b[38;5;54m─\u001b[0m\u001b[38;5;54m─\u001b[0m\u001b[38;5;54m─\u001b[0m\u001b[38;5;54m─\u001b[0m\u001b[38;5;54m─\u001b[0m\u001b[38;5;54m─\u001b[0m\u001b[38;5;54m─\u001b[0m\u001b[38;5;54m┬\u001b[0m\u001b[38;5;54m─\u001b[0m\u001b[38;5;54m─\u001b[0m\u001b[38;5;54m─\u001b[0m\u001b[38;5;54m─\u001b[0m\u001b[38;5;54m─\u001b[0m\u001b[38;5;54m─\u001b[0m  ",
      " \u001b[38;5;240m  │\u001b[0m                 \u001b[38;5;54m╰\u001b[0m\u001b[38;5;54m─\u001b[0m\u001b[38;5;54m─\u001b[0m\u001b[38;5;54m─\u001b[0m\u001b[38;5;54m─\u001b[0m\u001b[38;5;54m─\u001b[0m\u001b[38;5;54m─\u001b[0m\u001b[38;5;54m─\u001b[0m\u001b[38;5;54m─\u001b[0m use of undeclared type `CsvReadOptions`",
      "\u001b[38;5;246m───╯\u001b[0m"
     ]
    }
   ],
   "source": [
    "let df = CsvReadOptions::default()\n",
    "    .try_into_reader_with_file_path(Some(\"/data/prices.csv\".into()))?\n",
    "    .finish()?;"
   ]
  },
  {
   "cell_type": "code",
   "execution_count": 12,
   "id": "6f673f82",
   "metadata": {
    "vscode": {
     "languageId": "rust"
    }
   },
   "outputs": [
    {
     "ename": "Error",
     "evalue": "no method named `describe` found for reference `&polars::prelude::Series` in the current scope",
     "output_type": "error",
     "traceback": [
      "\u001b[31m[E0599] Error:\u001b[0m no method named `describe` found for reference `&polars::prelude::Series` in the current scope",
      "    \u001b[38;5;246m╭\u001b[0m\u001b[38;5;246m─\u001b[0m\u001b[38;5;246m[\u001b[0mcommand_12:1:1\u001b[38;5;246m]\u001b[0m",
      "    \u001b[38;5;246m│\u001b[0m",
      " \u001b[38;5;246m19 │\u001b[0m \u001b[38;5;249ml\u001b[0m\u001b[38;5;249me\u001b[0m\u001b[38;5;249mt\u001b[0m\u001b[38;5;249m \u001b[0m\u001b[38;5;249mc\u001b[0m\u001b[38;5;249ml\u001b[0m\u001b[38;5;249mo\u001b[0m\u001b[38;5;249ms\u001b[0m\u001b[38;5;249me\u001b[0m\u001b[38;5;249m_\u001b[0m\u001b[38;5;249ms\u001b[0m\u001b[38;5;249mt\u001b[0m\u001b[38;5;249ma\u001b[0m\u001b[38;5;249mt\u001b[0m\u001b[38;5;249ms\u001b[0m\u001b[38;5;249m \u001b[0m\u001b[38;5;249m=\u001b[0m\u001b[38;5;249m \u001b[0m\u001b[38;5;100md\u001b[0m\u001b[38;5;100mf\u001b[0m\u001b[38;5;249m.\u001b[0m\u001b[38;5;249mc\u001b[0m\u001b[38;5;249mo\u001b[0m\u001b[38;5;249ml\u001b[0m\u001b[38;5;249mu\u001b[0m\u001b[38;5;249mm\u001b[0m\u001b[38;5;249mn\u001b[0m\u001b[38;5;249m(\u001b[0m\u001b[38;5;249m\"\u001b[0m\u001b[38;5;249mc\u001b[0m\u001b[38;5;249ml\u001b[0m\u001b[38;5;249mo\u001b[0m\u001b[38;5;249ms\u001b[0m\u001b[38;5;249me\u001b[0m\u001b[38;5;249m\"\u001b[0m\u001b[38;5;249m)\u001b[0m",
      " \u001b[38;5;240m   │\u001b[0m                   \u001b[38;5;100m─\u001b[0m\u001b[38;5;100m┬\u001b[0m  ",
      " \u001b[38;5;240m   │\u001b[0m                    \u001b[38;5;100m╰\u001b[0m\u001b[38;5;100m─\u001b[0m\u001b[38;5;100m─\u001b[0m method `describe` is available on `&DataFrame`",
      " \u001b[38;5;240m   │\u001b[0m ",
      " \u001b[38;5;246m21 │\u001b[0m \u001b[38;5;249m \u001b[0m\u001b[38;5;249m \u001b[0m\u001b[38;5;249m \u001b[0m\u001b[38;5;249m \u001b[0m\u001b[38;5;249m.\u001b[0m\u001b[38;5;54md\u001b[0m\u001b[38;5;54me\u001b[0m\u001b[38;5;54ms\u001b[0m\u001b[38;5;54mc\u001b[0m\u001b[38;5;54mr\u001b[0m\u001b[38;5;54mi\u001b[0m\u001b[38;5;54mb\u001b[0m\u001b[38;5;54me\u001b[0m\u001b[38;5;249m(\u001b[0m\u001b[38;5;249m)\u001b[0m\u001b[38;5;249m;\u001b[0m",
      " \u001b[38;5;240m   │\u001b[0m      \u001b[38;5;54m─\u001b[0m\u001b[38;5;54m─\u001b[0m\u001b[38;5;54m─\u001b[0m\u001b[38;5;54m─\u001b[0m\u001b[38;5;54m┬\u001b[0m\u001b[38;5;54m─\u001b[0m\u001b[38;5;54m─\u001b[0m\u001b[38;5;54m─\u001b[0m  ",
      " \u001b[38;5;240m   │\u001b[0m          \u001b[38;5;54m╰\u001b[0m\u001b[38;5;54m─\u001b[0m\u001b[38;5;54m─\u001b[0m\u001b[38;5;54m─\u001b[0m\u001b[38;5;54m─\u001b[0m\u001b[38;5;54m─\u001b[0m method not found in `&Series`",
      "\u001b[38;5;246m────╯\u001b[0m"
     ]
    }
   ],
   "source": [
    "// Read the CSV file\n",
    "let df = CsvReader::from_path(\"/data/prices.csv\")\n",
    "    .unwrap()\n",
    "    .infer_schema(None)\n",
    "    .has_header(true)\n",
    "    .finish()\n",
    "    .unwrap();\n",
    "\n",
    "// Display basic information about the dataframe\n",
    "println!(\"DataFrame Shape: {:?}\", df.shape());\n",
    "println!(\"\\nColumn Names:\");\n",
    "println!(\"{:?}\", df.get_column_names());\n",
    "\n",
    "// Show the first few rows\n",
    "println!(\"\\nFirst few rows:\");\n",
    "println!(\"{}\", df.head(Some(5)));\n",
    "\n",
    "// Get basic statistics for the 'close' column\n",
    "let close_stats = df.column(\"close\")\n",
    "    .unwrap()\n",
    "    .describe();\n",
    "println!(\"\\nClose price statistics:\");\n",
    "println!(\"{}\", close_stats);\n",
    "\n",
    "// Check for any missing values\n",
    "let null_counts = df.null_count();\n",
    "println!(\"\\nNull counts per column:\");\n",
    "println!(\"{}\", null_counts);\n",
    "\n",
    "// Get unique tickers\n",
    "let unique_tickers = df.column(\"ticker\")\n",
    "    .unwrap()\n",
    "    .unique()\n",
    "    .unwrap();\n",
    "println!(\"\\nUnique tickers ({} total):\", unique_tickers.len());\n",
    "println!(\"{}\", unique_tickers);"
   ]
  },
  {
   "cell_type": "code",
   "execution_count": 11,
   "id": "49505fc4",
   "metadata": {
    "vscode": {
     "languageId": "rust"
    }
   },
   "outputs": [
    {
     "ename": "Error",
     "evalue": "unterminated double quote string",
     "output_type": "error",
     "traceback": [
      "unterminated double quote string"
     ]
    }
   ],
   "source": [
    "\n",
    "/// Converts wide-format price data to log returns\n",
    "fn calculate_log_returns(df: &DataFrame) -> Result<DataFrame, PolarsError> {\n",
    "    // Assuming df is already in wide format with date index and asset columns\n",
    "    let mut return_df = df.clone();\n",
    "    \n",
    "    for col in df.get_columns() {\n",
    "        if col.name() != \"date\" {\n",
    "            let returns = col.cast(&DataType::Float64)?\n",
    "                .apply(|x| x.ln())  // Using apply for natural log\n",
    "                .shift(1)\n",
    "                .sub(&col.cast(&DataType::Float64)?\n",
    "                    .apply(|x| x.ln()))?\n",
    "                .mul_f64(-1.0)  // Make it current/previous instead of previous/current\n",
    "                .rename(col.name());\n",
    "            return_df.with_column(returns)?;\n",
    "        }\n",
    "    }\n",
    "    \n",
    "    Ok(return_df.drop_nulls(None)?)\n",
    "}\n",
    "\n",
    "/// Standardizes returns (zero mean, unit variance) for each asset\n",
    "fn standardize_returns(df: &DataFrame) -> Result<DataFrame, PolarsError> {\n",
    "    let mut std_df = df.clone();\n",
    "    \n",
    "    for col in df.get_columns() {\n",
    "        if col.name() != \"date\" {\n",
    "            let mean = col.mean().ok_or_else(|| PolarsError::ComputeError(\"Mean calculation failed\".into()))?;\n",
    "            let std = col.std(1).ok_or_else(|| PolarsError::ComputeError(\"Std calculation failed\".into()))?;\n",
    "            \n",
    "            let standardized = col.sub_f64(mean)?\n",
    "                .div_f64(std)?\n",
    "                .rename(col.name());\n",
    "            std_df.with_column(standardized)?;\n",
    "        }\n",
    "    }\n",
    "    \n",
    "    Ok(std_df)\n",
    "}\n",
    "\n",
    "/// Computes the correlation matrix of returns\n",
    "fn compute_correlation_matrix(df: &DataFrame) -> Result<DataFrame, PolarsError> {\n",
    "    // Remove date column if present\n",
    "    let data_cols = df.get_columns().into_iter()\n",
    "        .filter(|col| col.name() != \"date\")\n",
    "        .collect::<Vec<_>>();\n",
    "    \n",
    "    let corr_df = DataFrame::new(data_cols)?\n",
    "        .corr(None)?;  // Added None parameter for default method\n",
    "    \n",
    "    Ok(corr_df)\n",
    "}\n",
    "\n",
    "/// Creates rolling windows of returns for time-varying analysis\n",
    "fn create_rolling_windows(\n",
    "    df: &DataFrame, \n",
    "    window_size: i64,\n",
    "    step_size: i64\n",
    ") -> Result<Vec<DataFrame>, PolarsError> {\n",
    "    let total_rows = df.height() as i64;\n",
    "    let mut windows = Vec::new();\n",
    "    \n",
    "    for start in (0..total_rows - window_size).step_by(step_size as usize) {\n",
    "        let window = df.slice(start, window_size as usize);\n",
    "        windows.push(window);\n",
    "    }\n",
    "    \n",
    "    Ok(windows)\n",
    "}\n",
    "\n",
    "/// Computes basic return statistics for each asset\n",
    "fn compute_return_statistics(df: &DataFrame) -> Result<DataFrame, PolarsError> {\n",
    "    let mut stats = Vec::new();\n",
    "    \n",
    "    for col in df.get_columns() {\n",
    "        if col.name() != \"date\" {\n",
    "            let mean = col.mean().ok_or_else(|| PolarsError::ComputeError(\"Mean calculation failed\".into()))?;\n",
    "            let std = col.std(1).ok_or_else(|| PolarsError::ComputeError(\"Std calculation failed\".into()))?;\n",
    "            let skew = col.skew().ok_or_else(|| PolarsError::ComputeError(\"Skew calculation failed\".into()))?;\n",
    "            let kurt = col.kurtosis().ok_or_else(|| PolarsError::ComputeError(\"Kurtosis"
   ]
  },
  {
   "cell_type": "code",
   "execution_count": null,
   "id": "03205a38",
   "metadata": {
    "vscode": {
     "languageId": "rust"
    }
   },
   "outputs": [],
   "source": [
    "\n",
    "// Example usage:\n",
    "fn main() -> Result<(), PolarsError> {\n",
    "    // Load data (assuming we have it in wide format, if not we'll need a pivot function)\n",
    "    let df = CsvReader::from_path(\"/data/prices.csv\")?\n",
    "        .infer_schema(None)\n",
    "        .has_header(true)\n",
    "        .finish()?;\n",
    "    \n",
    "    // Calculate log returns\n",
    "    let returns_df = calculate_log_returns(&df)?;\n",
    "    \n",
    "    // Get basic statistics\n",
    "    let stats_df = compute_return_statistics(&returns_df)?;\n",
    "    println!(\"Return Statistics:\\n{}\", stats_df);\n",
    "    \n",
    "    // Look at correlations\n",
    "    let corr_df = compute_correlation_matrix(&returns_df)?;\n",
    "    println!(\"Correlation Matrix:\\n{}\", corr_df);\n",
    "    \n",
    "    // Create 252-day rolling windows with 21-day steps (approximately yearly windows, monthly steps)\n",
    "    let windows = create_rolling_windows(&returns_df, 252, 21)?;\n",
    "    println!(\"Number of windows: {}\", windows.len());\n",
    "    \n",
    "    Ok(())\n",
    "}"
   ]
  }
 ],
 "metadata": {
  "kernelspec": {
   "display_name": "Rust",
   "language": "rust",
   "name": "rust"
  },
  "language_info": {
   "codemirror_mode": "rust",
   "file_extension": ".rs",
   "mimetype": "text/rust",
   "name": "Rust",
   "pygment_lexer": "rust",
   "version": ""
  }
 },
 "nbformat": 4,
 "nbformat_minor": 5
}
